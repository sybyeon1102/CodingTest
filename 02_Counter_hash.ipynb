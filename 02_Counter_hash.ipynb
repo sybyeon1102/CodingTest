{
 "cells": [
  {
   "cell_type": "markdown",
   "id": "a47efccc",
   "metadata": {},
   "source": [
    "# Counter() from collections"
   ]
  },
  {
   "cell_type": "markdown",
   "id": "818aeb5c",
   "metadata": {},
   "source": [
    "- 참고<br>\n",
    "<a href=\"https://hyem-study.tistory.com/47\">[Python] collections모듈 - Counter</a>\n",
    "<br>\n",
    "<a href=\"https://lucky516.tistory.com/15\">파이썬 Counter 객체 사용하기</a>"
   ]
  },
  {
   "cell_type": "code",
   "execution_count": 1,
   "id": "1862d067",
   "metadata": {},
   "outputs": [],
   "source": [
    "from collections import Counter"
   ]
  },
  {
   "cell_type": "code",
   "execution_count": null,
   "id": "89fe05f2",
   "metadata": {},
   "outputs": [],
   "source": []
  },
  {
   "cell_type": "markdown",
   "id": "e741a96e",
   "metadata": {},
   "source": [
    "## Counter 객체 생성"
   ]
  },
  {
   "cell_type": "code",
   "execution_count": 2,
   "id": "7e27032f",
   "metadata": {},
   "outputs": [
    {
     "data": {
      "text/plain": [
       "(Counter(), collections.Counter)"
      ]
     },
     "execution_count": 2,
     "metadata": {},
     "output_type": "execute_result"
    }
   ],
   "source": [
    "a = Counter()\n",
    "a, type(a)"
   ]
  },
  {
   "cell_type": "code",
   "execution_count": 3,
   "id": "72df4f44",
   "metadata": {},
   "outputs": [
    {
     "data": {
      "text/plain": [
       "(Counter({1: 4, 2: 2, 6: 1, 5: 1, 4: 1, 3: 2}), collections.Counter)"
      ]
     },
     "execution_count": 3,
     "metadata": {},
     "output_type": "execute_result"
    }
   ],
   "source": [
    "li = [1, 2, 2, 1, 1, 1, 6, 5, 4, 3, 3]\n",
    "a = Counter(li)\n",
    "a, type(a)"
   ]
  },
  {
   "cell_type": "code",
   "execution_count": 4,
   "id": "c452f87d",
   "metadata": {},
   "outputs": [
    {
     "data": {
      "text/plain": [
       "(Counter({1: 4, 2: 2, 6: 1, 5: 1, 4: 1, 3: 2}), collections.Counter)"
      ]
     },
     "execution_count": 4,
     "metadata": {},
     "output_type": "execute_result"
    }
   ],
   "source": [
    "dic = {1: 4, 2: 2, 6: 1, 5: 1, 4: 1, 3: 2}\n",
    "a = Counter(dic)\n",
    "a, type(a)"
   ]
  },
  {
   "cell_type": "code",
   "execution_count": 6,
   "id": "0cdc33e5",
   "metadata": {},
   "outputs": [
    {
     "data": {
      "text/plain": [
       "(Counter({3: 3, 4: 1, 2: 2, 1: 1, 8: 1, 7: 1, 9: 2, 0: 1}),\n",
       " collections.Counter)"
      ]
     },
     "execution_count": 6,
     "metadata": {},
     "output_type": "execute_result"
    }
   ],
   "source": [
    "tpl = (3, 4, 2, 2, 3, 3, 1, 8, 7, 9, 9, 0)\n",
    "a = Counter(tpl)\n",
    "a, type(a)"
   ]
  },
  {
   "cell_type": "code",
   "execution_count": 8,
   "id": "f506b2c8",
   "metadata": {},
   "outputs": [
    {
     "data": {
      "text/plain": [
       "(Counter({'c': 2,\n",
       "          'h': 2,\n",
       "          'e': 1,\n",
       "          'k': 2,\n",
       "          ' ': 3,\n",
       "          't': 2,\n",
       "          'i': 1,\n",
       "          's': 1,\n",
       "          'w': 1,\n",
       "          'o': 2,\n",
       "          'r': 1,\n",
       "          'u': 1,\n",
       "          '~': 2,\n",
       "          '!': 1}),\n",
       " collections.Counter)"
      ]
     },
     "execution_count": 8,
     "metadata": {},
     "output_type": "execute_result"
    }
   ],
   "source": [
    "str_ = 'check this work out~~!'\n",
    "a = Counter(str_)\n",
    "a, type(a)"
   ]
  },
  {
   "cell_type": "code",
   "execution_count": 11,
   "id": "6d16c226",
   "metadata": {
    "scrolled": true
   },
   "outputs": [
    {
     "data": {
      "text/plain": [
       "Counter({'a': 3, 'f': 5})"
      ]
     },
     "execution_count": 11,
     "metadata": {},
     "output_type": "execute_result"
    }
   ],
   "source": [
    "Counter({'a': 3, 'f': 5})"
   ]
  },
  {
   "cell_type": "code",
   "execution_count": 14,
   "id": "92752ad5",
   "metadata": {
    "scrolled": true
   },
   "outputs": [
    {
     "data": {
      "text/plain": [
       "Counter({'a': 3, 'f': 5})"
      ]
     },
     "execution_count": 14,
     "metadata": {},
     "output_type": "execute_result"
    }
   ],
   "source": [
    "Counter(a=3, f=5)"
   ]
  },
  {
   "cell_type": "code",
   "execution_count": null,
   "id": "1ed6be34",
   "metadata": {},
   "outputs": [],
   "source": []
  },
  {
   "cell_type": "code",
   "execution_count": null,
   "id": "9f0d2edf",
   "metadata": {},
   "outputs": [],
   "source": []
  },
  {
   "cell_type": "code",
   "execution_count": null,
   "id": "4e785fba",
   "metadata": {},
   "outputs": [],
   "source": []
  },
  {
   "cell_type": "code",
   "execution_count": null,
   "id": "68ecbb31",
   "metadata": {},
   "outputs": [],
   "source": []
  },
  {
   "cell_type": "code",
   "execution_count": null,
   "id": "55e1f93e",
   "metadata": {},
   "outputs": [],
   "source": []
  }
 ],
 "metadata": {
  "kernelspec": {
   "display_name": "Python 3 (ipykernel)",
   "language": "python",
   "name": "python3"
  },
  "language_info": {
   "codemirror_mode": {
    "name": "ipython",
    "version": 3
   },
   "file_extension": ".py",
   "mimetype": "text/x-python",
   "name": "python",
   "nbconvert_exporter": "python",
   "pygments_lexer": "ipython3",
   "version": "3.10.4"
  },
  "toc": {
   "base_numbering": 1,
   "nav_menu": {},
   "number_sections": true,
   "sideBar": true,
   "skip_h1_title": false,
   "title_cell": "Table of Contents",
   "title_sidebar": "Contents",
   "toc_cell": false,
   "toc_position": {},
   "toc_section_display": true,
   "toc_window_display": false
  }
 },
 "nbformat": 4,
 "nbformat_minor": 5
}
