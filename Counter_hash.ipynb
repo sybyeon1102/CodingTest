{
 "cells": [
  {
   "cell_type": "markdown",
   "id": "a47efccc",
   "metadata": {},
   "source": [
    "# Counter() from collections"
   ]
  },
  {
   "cell_type": "markdown",
   "id": "818aeb5c",
   "metadata": {},
   "source": [
    "- 참고\n",
    "<a href=\"https://hyem-study.tistory.com/47\">[Python] collections모듈 - Counter</a>"
   ]
  },
  {
   "cell_type": "code",
   "execution_count": 1,
   "id": "1862d067",
   "metadata": {},
   "outputs": [],
   "source": [
    "from collections import Counter"
   ]
  },
  {
   "cell_type": "code",
   "execution_count": null,
   "id": "89fe05f2",
   "metadata": {},
   "outputs": [],
   "source": []
  },
  {
   "cell_type": "markdown",
   "id": "e741a96e",
   "metadata": {},
   "source": [
    "## Counter 객체"
   ]
  },
  {
   "cell_type": "code",
   "execution_count": 2,
   "id": "7e27032f",
   "metadata": {},
   "outputs": [
    {
     "data": {
      "text/plain": [
       "(Counter(), collections.Counter)"
      ]
     },
     "execution_count": 2,
     "metadata": {},
     "output_type": "execute_result"
    }
   ],
   "source": [
    "a = Counter()\n",
    "a, type(a)"
   ]
  },
  {
   "cell_type": "code",
   "execution_count": 3,
   "id": "72df4f44",
   "metadata": {},
   "outputs": [
    {
     "data": {
      "text/plain": [
       "(Counter({1: 4, 2: 2, 6: 1, 5: 1, 4: 1, 3: 2}), collections.Counter)"
      ]
     },
     "execution_count": 3,
     "metadata": {},
     "output_type": "execute_result"
    }
   ],
   "source": [
    "li = [1, 2, 2, 1, 1, 1, 6, 5, 4, 3, 3]\n",
    "a = Counter(li)\n",
    "a, type(a)"
   ]
  },
  {
   "cell_type": "code",
   "execution_count": 4,
   "id": "c452f87d",
   "metadata": {},
   "outputs": [
    {
     "data": {
      "text/plain": [
       "(Counter({1: 4, 2: 2, 6: 1, 5: 1, 4: 1, 3: 2}), collections.Counter)"
      ]
     },
     "execution_count": 4,
     "metadata": {},
     "output_type": "execute_result"
    }
   ],
   "source": [
    "dic = {1: 4, 2: 2, 6: 1, 5: 1, 4: 1, 3: 2}\n",
    "a = Counter(dic)\n",
    "a, type(a)"
   ]
  },
  {
   "cell_type": "code",
   "execution_count": null,
   "id": "0cdc33e5",
   "metadata": {},
   "outputs": [],
   "source": [
    "tpl = ()"
   ]
  },
  {
   "cell_type": "code",
   "execution_count": null,
   "id": "76370b45",
   "metadata": {},
   "outputs": [],
   "source": []
  },
  {
   "cell_type": "code",
   "execution_count": null,
   "id": "6d16c226",
   "metadata": {},
   "outputs": [],
   "source": []
  },
  {
   "cell_type": "code",
   "execution_count": null,
   "id": "1ed6be34",
   "metadata": {},
   "outputs": [],
   "source": []
  },
  {
   "cell_type": "code",
   "execution_count": null,
   "id": "9f0d2edf",
   "metadata": {},
   "outputs": [],
   "source": []
  },
  {
   "cell_type": "code",
   "execution_count": null,
   "id": "4e785fba",
   "metadata": {},
   "outputs": [],
   "source": []
  },
  {
   "cell_type": "code",
   "execution_count": null,
   "id": "68ecbb31",
   "metadata": {},
   "outputs": [],
   "source": []
  },
  {
   "cell_type": "markdown",
   "id": "4d4b23f7",
   "metadata": {},
   "source": [
    "# hash()"
   ]
  },
  {
   "cell_type": "code",
   "execution_count": null,
   "id": "55e1f93e",
   "metadata": {},
   "outputs": [],
   "source": []
  }
 ],
 "metadata": {
  "kernelspec": {
   "display_name": "Python 3 (ipykernel)",
   "language": "python",
   "name": "python3"
  },
  "language_info": {
   "codemirror_mode": {
    "name": "ipython",
    "version": 3
   },
   "file_extension": ".py",
   "mimetype": "text/x-python",
   "name": "python",
   "nbconvert_exporter": "python",
   "pygments_lexer": "ipython3",
   "version": "3.8.13"
  },
  "toc": {
   "base_numbering": 1,
   "nav_menu": {},
   "number_sections": true,
   "sideBar": true,
   "skip_h1_title": false,
   "title_cell": "Table of Contents",
   "title_sidebar": "Contents",
   "toc_cell": false,
   "toc_position": {},
   "toc_section_display": true,
   "toc_window_display": false
  }
 },
 "nbformat": 4,
 "nbformat_minor": 5
}
