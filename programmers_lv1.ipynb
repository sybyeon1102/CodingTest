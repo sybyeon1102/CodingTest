{
 "cells": [
  {
   "cell_type": "code",
   "execution_count": null,
   "id": "5e54dcbe",
   "metadata": {},
   "outputs": [],
   "source": []
  },
  {
   "cell_type": "code",
   "execution_count": null,
   "id": "c06ede0d",
   "metadata": {},
   "outputs": [],
   "source": []
  },
  {
   "cell_type": "markdown",
   "id": "180ce48a",
   "metadata": {},
   "source": [
    "# 진법] \n",
    "## 10진법 -> 124나라 숫자로"
   ]
  },
  {
   "cell_type": "raw",
   "id": "99fa0ebd",
   "metadata": {},
   "source": [
    "1 2 4 11 12 14 21 22 24 41 42 44 111 112 114 121 122 124 141 142 144 211 212 214 221\n",
    "1 2 3   4    5    6   7    8   9 10 11 12    13   14    15   16    17   18    19    20   21   22    23   24    25 "
   ]
  },
  {
   "cell_type": "raw",
   "id": "a5a80c22",
   "metadata": {},
   "source": [
    "3진법 0, 1, 2\n",
    "124나라 1, 2, 4\n",
    "\n",
    "1 부터 1자리수\n",
    "0 1 2 0 1 2 0 1 2 ...\n",
    "_ 1 2 4 1 2 4 1 2 4 1 2 4 1 2 4 ...\n",
    "\n",
    "1+3 => 4 부터 2자리수 : 1, 2, 4를 각 3번씩 반복\n",
    "0 0 0 1 1 1 2 2 2 0 0 0 1 1 1 2 2 2 ...\n",
    "_ 0*3 1*3 2*3 4*3 1 1 1 2 2 2 4 4 4 ...\n",
    "\n",
    "4 + 9 => 13 부터 3자리수 : 1, 2, 4를 각 9번씩 반복\n",
    "0 0 0 0 0 0 0 0 0 1 1 1 1 1 1 1 1 1 2 2 2 2 2 2 2 2 2 ...\n",
    "_ 0*(3+9) 1*9 2*9\n",
    "\n",
    "13 + 27 => 40 부터 4자리수 : 1, 2, 4를 각 27번씩 반복\n",
    "0*27 1*27 2*27 4*27\n",
    "_ 0*(3+9+27) 1*27 2*27 4*17"
   ]
  },
  {
   "cell_type": "raw",
   "id": "d02bf10d",
   "metadata": {},
   "source": [
    "n: 1~500, 000, 000"
   ]
  },
  {
   "cell_type": "markdown",
   "id": "0318756f",
   "metadata": {},
   "source": [
    "### 최대 자리수 확인"
   ]
  },
  {
   "cell_type": "code",
   "execution_count": 106,
   "id": "a9b10108",
   "metadata": {},
   "outputs": [
    {
     "name": "stdout",
     "output_type": "stream",
     "text": [
      "18\n"
     ]
    }
   ],
   "source": [
    "sum_ = 0\n",
    "zeroes = []\n",
    "for i in range(20):\n",
    "    \n",
    "    sum_ += 3**i\n",
    "    if sum_ > 500000000:\n",
    "        print(i)\n",
    "        break\n",
    "    zeroes.append(sum_)"
   ]
  },
  {
   "cell_type": "code",
   "execution_count": null,
   "id": "ea11e6f8",
   "metadata": {},
   "outputs": [],
   "source": []
  },
  {
   "cell_type": "markdown",
   "id": "8372ef02",
   "metadata": {},
   "source": [
    "### 23에 대해서 자리별 테스트"
   ]
  },
  {
   "cell_type": "code",
   "execution_count": 4,
   "id": "9c4f9e9d",
   "metadata": {},
   "outputs": [],
   "source": [
    "n = 23 # 212"
   ]
  },
  {
   "cell_type": "code",
   "execution_count": 9,
   "id": "7af57a87",
   "metadata": {},
   "outputs": [
    {
     "name": "stdout",
     "output_type": "stream",
     "text": [
      "13\n"
     ]
    }
   ],
   "source": [
    "if n >= zeroes[2]:\n",
    "    print(f'{zeroes[2]}')"
   ]
  },
  {
   "cell_type": "code",
   "execution_count": 21,
   "id": "d99236fb",
   "metadata": {},
   "outputs": [
    {
     "data": {
      "text/plain": [
       "10"
      ]
     },
     "execution_count": 21,
     "metadata": {},
     "output_type": "execute_result"
    }
   ],
   "source": [
    "az = n - zeroes[2]  # 13 14 15 16 17/ 18 19 20 21 <- 1 :: 2-> 22/ 23\n",
    "az"
   ]
  },
  {
   "cell_type": "code",
   "execution_count": 22,
   "id": "2cbe34f7",
   "metadata": {},
   "outputs": [
    {
     "data": {
      "text/plain": [
       "1"
      ]
     },
     "execution_count": 22,
     "metadata": {},
     "output_type": "execute_result"
    }
   ],
   "source": [
    "az//3**2 #0 1 2 3 ... -> 1 2 4 1 ..."
   ]
  },
  {
   "cell_type": "code",
   "execution_count": 36,
   "id": "533af496",
   "metadata": {},
   "outputs": [
    {
     "data": {
      "text/plain": [
       "(2, '4')"
      ]
     },
     "execution_count": 36,
     "metadata": {},
     "output_type": "execute_result"
    }
   ],
   "source": [
    "d = (az//3**2)%3 # 0 1 2 -> 1 2 4\n",
    "d, to124[d]"
   ]
  },
  {
   "cell_type": "code",
   "execution_count": null,
   "id": "84e33cd8",
   "metadata": {},
   "outputs": [],
   "source": []
  },
  {
   "cell_type": "code",
   "execution_count": 24,
   "id": "dcba9782",
   "metadata": {
    "scrolled": true
   },
   "outputs": [
    {
     "name": "stdout",
     "output_type": "stream",
     "text": [
      "4\n"
     ]
    }
   ],
   "source": [
    "if n >= zeroes[1]:\n",
    "    print(f'{zeroes[1]}')"
   ]
  },
  {
   "cell_type": "code",
   "execution_count": 25,
   "id": "404795c5",
   "metadata": {},
   "outputs": [
    {
     "data": {
      "text/plain": [
       "19"
      ]
     },
     "execution_count": 25,
     "metadata": {},
     "output_type": "execute_result"
    }
   ],
   "source": [
    "az = n - zeroes[1]  # 13 14 15 16 17/ 18 19 20 21 <- 1 :: 2-> 22/ 23\n",
    "az"
   ]
  },
  {
   "cell_type": "code",
   "execution_count": 26,
   "id": "5fee81cd",
   "metadata": {},
   "outputs": [
    {
     "data": {
      "text/plain": [
       "6"
      ]
     },
     "execution_count": 26,
     "metadata": {},
     "output_type": "execute_result"
    }
   ],
   "source": [
    "az//3**1 #0 1 2 3 ... -> 1 2 4 1 ..."
   ]
  },
  {
   "cell_type": "code",
   "execution_count": 37,
   "id": "a2b09d33",
   "metadata": {},
   "outputs": [
    {
     "data": {
      "text/plain": [
       "(1, '2')"
      ]
     },
     "execution_count": 37,
     "metadata": {},
     "output_type": "execute_result"
    }
   ],
   "source": [
    "d = (az//3**1)%3 # 0 1 2 -> 1 2 4\n",
    "d, to124[d]"
   ]
  },
  {
   "cell_type": "code",
   "execution_count": 94,
   "id": "e08369d3",
   "metadata": {},
   "outputs": [],
   "source": [
    "n = 3"
   ]
  },
  {
   "cell_type": "code",
   "execution_count": 95,
   "id": "24b73082",
   "metadata": {},
   "outputs": [
    {
     "data": {
      "text/plain": [
       "1"
      ]
     },
     "execution_count": 95,
     "metadata": {},
     "output_type": "execute_result"
    }
   ],
   "source": [
    "zeroes[0]"
   ]
  },
  {
   "cell_type": "code",
   "execution_count": 96,
   "id": "aa8e7bd3",
   "metadata": {
    "scrolled": true
   },
   "outputs": [
    {
     "name": "stdout",
     "output_type": "stream",
     "text": [
      "1\n"
     ]
    }
   ],
   "source": [
    "if n >= zeroes[0]:\n",
    "    print(f'{zeroes[0]}')"
   ]
  },
  {
   "cell_type": "code",
   "execution_count": 97,
   "id": "4d64ec98",
   "metadata": {},
   "outputs": [
    {
     "data": {
      "text/plain": [
       "2"
      ]
     },
     "execution_count": 97,
     "metadata": {},
     "output_type": "execute_result"
    }
   ],
   "source": [
    "az = n - zeroes[0]  # 13 14 15 16 17/ 18 19 20 21 <- 1 :: 2-> 22/ 23\n",
    "az"
   ]
  },
  {
   "cell_type": "code",
   "execution_count": 98,
   "id": "6d487b64",
   "metadata": {},
   "outputs": [
    {
     "data": {
      "text/plain": [
       "2"
      ]
     },
     "execution_count": 98,
     "metadata": {},
     "output_type": "execute_result"
    }
   ],
   "source": [
    "az//3**0 #0 1 2 3 ... -> 1 2 4 1 ..."
   ]
  },
  {
   "cell_type": "code",
   "execution_count": 99,
   "id": "f13950a9",
   "metadata": {},
   "outputs": [
    {
     "data": {
      "text/plain": [
       "(2, '4')"
      ]
     },
     "execution_count": 99,
     "metadata": {},
     "output_type": "execute_result"
    }
   ],
   "source": [
    "d = (az//3**0)%3 # 0 1 2 -> 1 2 4\n",
    "d, to124[d]"
   ]
  },
  {
   "cell_type": "code",
   "execution_count": null,
   "id": "3afe3991",
   "metadata": {},
   "outputs": [],
   "source": []
  },
  {
   "cell_type": "code",
   "execution_count": null,
   "id": "939bf063",
   "metadata": {},
   "outputs": [],
   "source": []
  },
  {
   "cell_type": "code",
   "execution_count": null,
   "id": "3c228271",
   "metadata": {},
   "outputs": [],
   "source": []
  },
  {
   "cell_type": "markdown",
   "id": "791fab00",
   "metadata": {},
   "source": [
    "### 최종"
   ]
  },
  {
   "cell_type": "code",
   "execution_count": 100,
   "id": "6d4497bc",
   "metadata": {},
   "outputs": [],
   "source": [
    "sum_ = 0\n",
    "zeroes = []\n",
    "for i in range(18):\n",
    "    sum_ += 3**i\n",
    "    zeroes.append(sum_)\n",
    "\n",
    "to124 = {0: '1', 1: '2', 2: '4'}\n",
    "\n",
    "def numTo124(n):\n",
    "    num = []\n",
    "    for i in range(18):\n",
    "        if n >= zeroes[i]:\n",
    "            d = ((n - zeroes[i])//3**i)%3\n",
    "            num.append(to124[d])\n",
    "        else:\n",
    "            break\n",
    "    num = \"\".join(num)\n",
    "    return num[::-1]"
   ]
  },
  {
   "cell_type": "code",
   "execution_count": 104,
   "id": "c17d365a",
   "metadata": {
    "collapsed": true
   },
   "outputs": [
    {
     "name": "stdout",
     "output_type": "stream",
     "text": [
      "1\n",
      "2\n",
      "4\n",
      "11\n",
      "12\n",
      "14\n",
      "21\n",
      "22\n",
      "24\n",
      "41\n",
      "42\n",
      "44\n",
      "111\n",
      "112\n",
      "114\n",
      "121\n",
      "122\n",
      "124\n",
      "141\n",
      "142\n",
      "144\n",
      "211\n",
      "212\n",
      "214\n",
      "221\n",
      "222\n",
      "224\n",
      "241\n",
      "242\n",
      "244\n",
      "411\n",
      "412\n",
      "414\n",
      "421\n",
      "422\n",
      "424\n",
      "441\n",
      "442\n",
      "444\n",
      "1111\n",
      "1112\n",
      "1114\n",
      "1121\n",
      "1122\n",
      "1124\n",
      "1141\n",
      "1142\n",
      "1144\n",
      "1211\n",
      "1212\n",
      "1214\n",
      "1221\n",
      "1222\n",
      "1224\n",
      "1241\n",
      "1242\n",
      "1244\n",
      "1411\n",
      "1412\n",
      "1414\n",
      "1421\n",
      "1422\n",
      "1424\n",
      "1441\n",
      "1442\n",
      "1444\n",
      "2111\n",
      "2112\n",
      "2114\n",
      "2121\n",
      "2122\n",
      "2124\n",
      "2141\n",
      "2142\n",
      "2144\n",
      "2211\n",
      "2212\n",
      "2214\n",
      "2221\n",
      "2222\n",
      "2224\n",
      "2241\n",
      "2242\n",
      "2244\n",
      "2411\n",
      "2412\n",
      "2414\n",
      "2421\n",
      "2422\n",
      "2424\n",
      "2441\n",
      "2442\n",
      "2444\n",
      "4111\n",
      "4112\n",
      "4114\n",
      "4121\n",
      "4122\n",
      "4124\n"
     ]
    }
   ],
   "source": [
    "for i in range(1, 100):\n",
    "    print(numTo124(i))"
   ]
  },
  {
   "cell_type": "code",
   "execution_count": 63,
   "id": "d9db0985",
   "metadata": {},
   "outputs": [],
   "source": []
  },
  {
   "cell_type": "markdown",
   "id": "2cd3d532",
   "metadata": {},
   "source": [
    "# 스택과 큐]"
   ]
  },
  {
   "cell_type": "markdown",
   "id": "e40307d6",
   "metadata": {},
   "source": [
    "## 같은 숫자는 싫어\n",
    "- 풀긴 했는데 스택or큐를 전혀 사용하지 않아서 다시 풀어본다"
   ]
  },
  {
   "cell_type": "raw",
   "id": "0ba48d8e",
   "metadata": {},
   "source": [
    "[1, 1, 2, 3, 3, 3, 4, 2, 2, 2, 4, 2, 2, 2, 2]\n",
    "-> [1, 2, 3, 4, 2, 4, 2]\n",
    "\n",
    "연속으로 나오는 숫자 중복을 없앤다."
   ]
  },
  {
   "cell_type": "markdown",
   "id": "3ea2114c",
   "metadata": {},
   "source": [
    "### 제출한 답"
   ]
  },
  {
   "cell_type": "code",
   "execution_count": 1,
   "id": "8e0c9ab5",
   "metadata": {},
   "outputs": [
    {
     "data": {
      "text/plain": [
       "[1, 2, 3, 4, 2, 4, 2]"
      ]
     },
     "execution_count": 1,
     "metadata": {},
     "output_type": "execute_result"
    }
   ],
   "source": [
    "def solution(arr):\n",
    "    answer = []\n",
    "    \n",
    "    b = arr[0]\n",
    "    answer.append(b)\n",
    "    for e in arr[1:]:\n",
    "        if e != b:\n",
    "            answer.append(e)\n",
    "        b = e\n",
    "    \n",
    "    return answer\n",
    "solution([1, 1, 2, 3, 3, 3, 4, 2, 2, 2, 4, 2, 2, 2, 2])"
   ]
  },
  {
   "cell_type": "markdown",
   "id": "87d0a6e3",
   "metadata": {},
   "source": [
    "### 스택을 써서 해보기"
   ]
  },
  {
   "cell_type": "code",
   "execution_count": 5,
   "id": "a8bf123f",
   "metadata": {},
   "outputs": [
    {
     "name": "stdout",
     "output_type": "stream",
     "text": [
      "[1, 2, 3, 4, 2, 4, 2]\n"
     ]
    }
   ],
   "source": [
    "arr = [1, 1, 2, 3, 3, 3, 4, 2, 2, 2, 4, 2, 2, 2, 2]\n",
    "stack = [arr[0]]\n",
    "\n",
    "for e in arr[1:]:\n",
    "    p = stack.pop()\n",
    "    if p != e:\n",
    "        stack.append(p)\n",
    "    stack.append(e)\n",
    "print(stack)"
   ]
  },
  {
   "cell_type": "raw",
   "id": "2fa21b5f",
   "metadata": {},
   "source": [
    "arr = [1, 1, 2, 3, 3, 3, 4, 2, 2, 2, 4, 2, 2, 2, 2]\n",
    "stack = [ ]\n",
    "\n",
    "stack <- arr[0]\n",
    "***** stack = [1]\n",
    "\n",
    "-------------------------------------\n",
    "\n",
    "stack -> 1 -> p\n",
    "***** stack = [ ]\n",
    "\n",
    "p == arr[1] \n",
    "-> stack <- arr[1]\n",
    "***** stack = [1]\n",
    "\n",
    "--------------------------------------\n",
    "\n",
    "stack -> 1 -> p\n",
    "***** stack = [ ]\n",
    "\n",
    "p != arr[2]\n",
    "stack <- p\n",
    "stack <- arr[2]\n",
    "***** stack = [1, 2]\n",
    "\n",
    "--------------------------------------\n",
    "\n",
    "stack -> 2 -> p\n",
    "***** stack = [1]\n",
    "\n",
    "p != arr[3]\n",
    "stack <- p\n",
    "stack <- arr[3]\n",
    "***** stack = [1, 2, 3]"
   ]
  },
  {
   "cell_type": "code",
   "execution_count": null,
   "id": "06a893df",
   "metadata": {},
   "outputs": [],
   "source": []
  },
  {
   "cell_type": "markdown",
   "id": "31e1d1e6",
   "metadata": {},
   "source": [
    "# 완전 탐색]"
   ]
  },
  {
   "cell_type": "markdown",
   "id": "6a938f21",
   "metadata": {},
   "source": [
    "## 최소 직사각형"
   ]
  },
  {
   "cell_type": "raw",
   "id": "39808a24",
   "metadata": {},
   "source": [
    "sizes\tresult\n",
    "[[60, 50], [30, 70], [60, 30], [80, 40]]\t4000\n",
    "[[10, 7], [12, 3], [8, 15], [14, 7], [5, 15]]\t120\n",
    "[[14, 4], [19, 6], [6, 16], [18, 7], [7, 11]]\t133\n",
    "\n",
    "명함들을 다 넣을 수 있는 가장 작은 지갑 사이즈\n"
   ]
  },
  {
   "cell_type": "code",
   "execution_count": 29,
   "id": "42a02272",
   "metadata": {},
   "outputs": [],
   "source": [
    "def solution(sizes):\n",
    "    \n",
    "    width, height = 0, 0\n",
    "    \n",
    "    for w, h in sizes:\n",
    "        if w < h:\n",
    "            w, h = h, w\n",
    "            \n",
    "        width = max(width, w)\n",
    "        height = max(height, h)\n",
    "\n",
    "    return width*height"
   ]
  },
  {
   "cell_type": "code",
   "execution_count": null,
   "id": "1ac0ee72",
   "metadata": {},
   "outputs": [],
   "source": []
  },
  {
   "cell_type": "markdown",
   "id": "7947fe67",
   "metadata": {},
   "source": [
    "# 해시]"
   ]
  },
  {
   "cell_type": "markdown",
   "id": "3e3e1560",
   "metadata": {},
   "source": [
    "## 폰켓몬"
   ]
  },
  {
   "cell_type": "raw",
   "id": "416daa29",
   "metadata": {},
   "source": [
    "최대한 다양한 포켓몬을 가져간다\n",
    "가져갈 수 있는 포켓몬 종류 수\n",
    "\n",
    "n마리면 n/2마리 가져갈 수 있음 (n은 항상 짝수)\n",
    "\n",
    "숫자는 포켓몬 종류, 같은 숫자는 같은 종류의 포켓몬\n",
    "\n",
    "nums\tresult\n",
    "[3,1,2,3]\t2\n",
    "[3,3,3,2,2,4]\t3\n",
    "[3,3,3,2,2,2]\t2"
   ]
  },
  {
   "cell_type": "code",
   "execution_count": null,
   "id": "faf70cf3",
   "metadata": {},
   "outputs": [],
   "source": [
    "def solution(nums):\n",
    "    answer = 0\n",
    "    \n",
    "    num_monster = len(nums)/2\n",
    "    cat_monster = len(set(nums))\n",
    "    \n",
    "    if num_monster > cat_monster:\n",
    "        return cat_monster\n",
    "    else:\n",
    "        return num_monster"
   ]
  },
  {
   "cell_type": "markdown",
   "id": "2d527e4a",
   "metadata": {},
   "source": [
    "- 다른 사람 것"
   ]
  },
  {
   "cell_type": "code",
   "execution_count": null,
   "id": "a33623e7",
   "metadata": {},
   "outputs": [],
   "source": [
    "def solution(nums):    \n",
    "    return min(len(nums)/2, len(set(nums)))"
   ]
  },
  {
   "cell_type": "code",
   "execution_count": null,
   "id": "313a684d",
   "metadata": {},
   "outputs": [],
   "source": []
  },
  {
   "cell_type": "markdown",
   "id": "9328d99e",
   "metadata": {},
   "source": [
    "## 완주하지 못한 선수"
   ]
  },
  {
   "cell_type": "raw",
   "id": "bdafe0bf",
   "metadata": {},
   "source": [
    "입출력 예\n",
    "participant\tcompletion\treturn\n",
    "[\"leo\", \"kiki\", \"eden\"]\t[\"eden\", \"kiki\"]\t\"leo\"\n",
    "[\"marina\", \"josipa\", \"nikola\", \"vinko\", \"filipa\"]\t[\"josipa\", \"filipa\", \"marina\", \"nikola\"]\t\"vinko\"\n",
    "[\"mislav\", \"stanko\", \"mislav\", \"ana\"]\t[\"stanko\", \"ana\", \"mislav\"]\t\"mislav\""
   ]
  },
  {
   "cell_type": "markdown",
   "id": "7840efbf",
   "metadata": {},
   "source": [
    "###  효율 0점"
   ]
  },
  {
   "cell_type": "code",
   "execution_count": 18,
   "id": "76163874",
   "metadata": {},
   "outputs": [],
   "source": [
    "def solution(participant, completion):\n",
    "    for c in completion:\n",
    "        participant.remove(c)    \n",
    "    \n",
    "    return participant[0]\n",
    "\n",
    "# 효율성 00/50"
   ]
  },
  {
   "cell_type": "markdown",
   "id": "ab83e3af",
   "metadata": {},
   "source": [
    "### 제출한 답"
   ]
  },
  {
   "cell_type": "code",
   "execution_count": 41,
   "id": "c7b42fe9",
   "metadata": {},
   "outputs": [
    {
     "data": {
      "text/plain": [
       "'mislav'"
      ]
     },
     "execution_count": 41,
     "metadata": {},
     "output_type": "execute_result"
    }
   ],
   "source": [
    "# 이거로 통과했다.\n",
    "\n",
    "participant = [\"mislav\", \"stanko\", \"mislav\", \"ana\"]\n",
    "completion = [\"stanko\", \"ana\", \"mislav\"]\n",
    "\n",
    "def solution(participant, completion):\n",
    "    for p, c in zip(sorted(participant), sorted(completion)+['0']):\n",
    "        if p != c:\n",
    "            return p\n",
    "solution(participant, completion)"
   ]
  },
  {
   "cell_type": "markdown",
   "id": "04094749",
   "metadata": {},
   "source": [
    "- zip은 요소 갯수 안맞아도 가능 !"
   ]
  },
  {
   "cell_type": "code",
   "execution_count": 40,
   "id": "c80cf492",
   "metadata": {},
   "outputs": [
    {
     "data": {
      "text/plain": [
       "[('a', 'a'), ('ab', 'b'), ('b', 'ed')]"
      ]
     },
     "execution_count": 40,
     "metadata": {},
     "output_type": "execute_result"
    }
   ],
   "source": [
    "list(zip(sorted(['a', 'b', 'c', 'ab']), sorted(['a', 'b', 'ed'])))"
   ]
  },
  {
   "cell_type": "code",
   "execution_count": 42,
   "id": "2654afc6",
   "metadata": {},
   "outputs": [
    {
     "data": {
      "text/plain": [
       "'mislav'"
      ]
     },
     "execution_count": 42,
     "metadata": {},
     "output_type": "execute_result"
    }
   ],
   "source": [
    "participant = [\"mislav\", \"stanko\", \"mislav\", \"ana\"]\n",
    "completion = [\"stanko\", \"ana\", \"mislav\"]\n",
    "\n",
    "def solution(participant, completion):\n",
    "    participant.sort()\n",
    "    completion.sort()\n",
    "    for p, c in zip(participant, completion):\n",
    "        if p != c:\n",
    "            return p\n",
    "    return participant[-1]\n",
    "solution(participant, completion)"
   ]
  },
  {
   "cell_type": "code",
   "execution_count": null,
   "id": "5965bf61",
   "metadata": {},
   "outputs": [],
   "source": []
  },
  {
   "cell_type": "markdown",
   "id": "31b32d5e",
   "metadata": {},
   "source": [
    "### 다른 사람 풀이"
   ]
  },
  {
   "cell_type": "markdown",
   "id": "e4888664",
   "metadata": {},
   "source": [
    "#### Counter 를 사용"
   ]
  },
  {
   "cell_type": "code",
   "execution_count": 20,
   "id": "0d805fe3",
   "metadata": {},
   "outputs": [],
   "source": [
    "participant = [\"mislav\", \"stanko\", \"mislav\", \"ana\"]\n",
    "completion = [\"stanko\", \"ana\", \"mislav\"]"
   ]
  },
  {
   "cell_type": "code",
   "execution_count": null,
   "id": "e547e3ab",
   "metadata": {},
   "outputs": [],
   "source": [
    "import collections\n",
    "\n",
    "def solution(participant, completion):\n",
    "    answer = collections.Counter(participant) - collections.Counter(completion)\n",
    "    return list(answer.keys())[0]"
   ]
  },
  {
   "cell_type": "markdown",
   "id": "617159f0",
   "metadata": {},
   "source": [
    "#### hash 를 사용"
   ]
  },
  {
   "cell_type": "code",
   "execution_count": null,
   "id": "fa4316e8",
   "metadata": {},
   "outputs": [],
   "source": [
    "def solution(participant, completion):\n",
    "    answer = ''\n",
    "    temp = 0\n",
    "    dic = {}\n",
    "    for part in participant:\n",
    "        dic[hash(part)] = part\n",
    "        temp += int(hash(part))\n",
    "    for com in completion:\n",
    "        temp -= hash(com)\n",
    "    answer = dic[temp]\n",
    "\n",
    "    return answer"
   ]
  },
  {
   "cell_type": "code",
   "execution_count": null,
   "id": "6176e860",
   "metadata": {},
   "outputs": [],
   "source": []
  },
  {
   "cell_type": "code",
   "execution_count": null,
   "id": "bbd05922",
   "metadata": {},
   "outputs": [],
   "source": []
  },
  {
   "cell_type": "code",
   "execution_count": null,
   "id": "34c7015b",
   "metadata": {},
   "outputs": [],
   "source": []
  }
 ],
 "metadata": {
  "kernelspec": {
   "display_name": "Python 3 (ipykernel)",
   "language": "python",
   "name": "python3"
  },
  "language_info": {
   "codemirror_mode": {
    "name": "ipython",
    "version": 3
   },
   "file_extension": ".py",
   "mimetype": "text/x-python",
   "name": "python",
   "nbconvert_exporter": "python",
   "pygments_lexer": "ipython3",
   "version": "3.10.4"
  },
  "toc": {
   "base_numbering": 1,
   "nav_menu": {},
   "number_sections": true,
   "sideBar": true,
   "skip_h1_title": false,
   "title_cell": "Table of Contents",
   "title_sidebar": "Contents",
   "toc_cell": false,
   "toc_position": {
    "height": "calc(100% - 180px)",
    "left": "10px",
    "top": "150px",
    "width": "224.75px"
   },
   "toc_section_display": true,
   "toc_window_display": true
  }
 },
 "nbformat": 4,
 "nbformat_minor": 5
}
