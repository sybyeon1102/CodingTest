{
 "cells": [
  {
   "cell_type": "code",
   "execution_count": null,
   "id": "5e54dcbe",
   "metadata": {},
   "outputs": [],
   "source": []
  },
  {
   "cell_type": "code",
   "execution_count": null,
   "id": "c06ede0d",
   "metadata": {},
   "outputs": [],
   "source": []
  },
  {
   "cell_type": "markdown",
   "id": "15e53144",
   "metadata": {},
   "source": [
    "# 인덱싱n슬라이싱 \n",
    "- 배열의 범위에서 벗어나는 인덱싱과 슬라이싱"
   ]
  },
  {
   "cell_type": "markdown",
   "id": "8cd48e09",
   "metadata": {},
   "source": [
    "## python list에 대해"
   ]
  },
  {
   "cell_type": "markdown",
   "id": "81d0057a",
   "metadata": {},
   "source": [
    "### 인덱싱: 크기 n의 list의 경우 -n ~ n-1 에 대해서 에러 안남\n",
    "- IndexError: list index out of range"
   ]
  },
  {
   "cell_type": "code",
   "execution_count": 21,
   "id": "b891cffa",
   "metadata": {},
   "outputs": [
    {
     "data": {
      "text/plain": [
       "[3, 5, 3, 1]"
      ]
     },
     "execution_count": 21,
     "metadata": {},
     "output_type": "execute_result"
    }
   ],
   "source": [
    "li"
   ]
  },
  {
   "cell_type": "code",
   "execution_count": 29,
   "id": "61d382f0",
   "metadata": {},
   "outputs": [
    {
     "name": "stdout",
     "output_type": "stream",
     "text": [
      "error for -10\n",
      "error for -9\n",
      "error for -8\n",
      "error for -7\n",
      "error for -6\n",
      "error for -5\n",
      "-4 3\n",
      "-3 5\n",
      "-2 3\n",
      "-1 1\n",
      "0 3\n",
      "1 5\n",
      "2 3\n",
      "3 1\n",
      "error for 4\n",
      "error for 5\n",
      "error for 6\n",
      "error for 7\n",
      "error for 8\n",
      "error for 9\n"
     ]
    }
   ],
   "source": [
    "for i in range(-10, 10):\n",
    "    try:\n",
    "        print(i, li[i])\n",
    "    except:\n",
    "        print(f'error for {i}')"
   ]
  },
  {
   "cell_type": "raw",
   "id": "5d284631",
   "metadata": {},
   "source": [
    "li[4] # 에러 남"
   ]
  },
  {
   "cell_type": "code",
   "execution_count": null,
   "id": "4c2ea7ce",
   "metadata": {},
   "outputs": [],
   "source": []
  },
  {
   "cell_type": "markdown",
   "id": "2e96d865",
   "metadata": {},
   "source": [
    "### 슬라이싱 : 에러를 내는 방법이 없는 것 같다..!"
   ]
  },
  {
   "cell_type": "code",
   "execution_count": 3,
   "id": "3980d46c",
   "metadata": {},
   "outputs": [],
   "source": [
    "li = [3, 5, 3, 1]"
   ]
  },
  {
   "cell_type": "code",
   "execution_count": 32,
   "id": "ef420a54",
   "metadata": {
    "scrolled": true
   },
   "outputs": [
    {
     "name": "stdout",
     "output_type": "stream",
     "text": [
      "1 [3]\n",
      "0 []\n",
      "-1 [3, 5, 3]\n",
      "-2 [3, 5]\n",
      "-3 [3]\n",
      "-4 []\n",
      "-5 []\n"
     ]
    }
   ],
   "source": [
    "for i in range(1, -6, -1):\n",
    "    print(i, li[:i])"
   ]
  },
  {
   "cell_type": "code",
   "execution_count": 33,
   "id": "2cba9286",
   "metadata": {},
   "outputs": [
    {
     "name": "stdout",
     "output_type": "stream",
     "text": [
      "3 [1]\n",
      "4 []\n",
      "5 []\n",
      "6 []\n",
      "7 []\n"
     ]
    }
   ],
   "source": [
    "for i in range(3, 8):\n",
    "    print(i, li[i:])"
   ]
  },
  {
   "cell_type": "code",
   "execution_count": null,
   "id": "93d565f7",
   "metadata": {},
   "outputs": [],
   "source": []
  },
  {
   "cell_type": "code",
   "execution_count": 17,
   "id": "d6417258",
   "metadata": {},
   "outputs": [
    {
     "data": {
      "text/plain": [
       "[]"
      ]
     },
     "execution_count": 17,
     "metadata": {},
     "output_type": "execute_result"
    }
   ],
   "source": [
    "li[3:1]"
   ]
  },
  {
   "cell_type": "code",
   "execution_count": 18,
   "id": "d5cc41dc",
   "metadata": {},
   "outputs": [
    {
     "data": {
      "text/plain": [
       "[]"
      ]
     },
     "execution_count": 18,
     "metadata": {},
     "output_type": "execute_result"
    }
   ],
   "source": [
    "li[3:3]"
   ]
  },
  {
   "cell_type": "code",
   "execution_count": 35,
   "id": "91d33410",
   "metadata": {},
   "outputs": [
    {
     "data": {
      "text/plain": [
       "[3, 5, 3, 1]"
      ]
     },
     "execution_count": 35,
     "metadata": {},
     "output_type": "execute_result"
    }
   ],
   "source": [
    "li"
   ]
  },
  {
   "cell_type": "code",
   "execution_count": null,
   "id": "06cbd0cc",
   "metadata": {},
   "outputs": [],
   "source": []
  },
  {
   "cell_type": "code",
   "execution_count": 38,
   "id": "3e539744",
   "metadata": {},
   "outputs": [
    {
     "data": {
      "text/plain": [
       "[1, 3, 5, 3]"
      ]
     },
     "execution_count": 38,
     "metadata": {},
     "output_type": "execute_result"
    }
   ],
   "source": [
    "(li+[2])[-2::-1]"
   ]
  },
  {
   "cell_type": "code",
   "execution_count": 34,
   "id": "035a7238",
   "metadata": {},
   "outputs": [
    {
     "data": {
      "text/plain": [
       "[5]"
      ]
     },
     "execution_count": 34,
     "metadata": {},
     "output_type": "execute_result"
    }
   ],
   "source": [
    "li[-3:-2]"
   ]
  },
  {
   "cell_type": "code",
   "execution_count": null,
   "id": "b816a108",
   "metadata": {},
   "outputs": [],
   "source": []
  },
  {
   "cell_type": "markdown",
   "id": "08775eaa",
   "metadata": {},
   "source": [
    "## numpy array에 대해"
   ]
  },
  {
   "cell_type": "code",
   "execution_count": 1,
   "id": "b4cc55b5",
   "metadata": {},
   "outputs": [],
   "source": [
    "import numpy as np"
   ]
  },
  {
   "cell_type": "code",
   "execution_count": 28,
   "id": "4c1fe5d4",
   "metadata": {},
   "outputs": [
    {
     "data": {
      "text/plain": [
       "array([3, 5, 3, 1])"
      ]
     },
     "execution_count": 28,
     "metadata": {},
     "output_type": "execute_result"
    }
   ],
   "source": [
    "arr = np.array(li)\n",
    "arr"
   ]
  },
  {
   "cell_type": "markdown",
   "id": "e6e534c4",
   "metadata": {},
   "source": [
    "### 인덱싱: list와 마찬가지"
   ]
  },
  {
   "cell_type": "code",
   "execution_count": 30,
   "id": "f15771a8",
   "metadata": {},
   "outputs": [
    {
     "name": "stdout",
     "output_type": "stream",
     "text": [
      "error for -10\n",
      "error for -9\n",
      "error for -8\n",
      "error for -7\n",
      "error for -6\n",
      "error for -5\n",
      "-4 3\n",
      "-3 5\n",
      "-2 3\n",
      "-1 1\n",
      "0 3\n",
      "1 5\n",
      "2 3\n",
      "3 1\n",
      "error for 4\n",
      "error for 5\n",
      "error for 6\n",
      "error for 7\n",
      "error for 8\n",
      "error for 9\n"
     ]
    }
   ],
   "source": [
    "for i in range(-10, 10):\n",
    "    try:\n",
    "        print(i, arr[i])\n",
    "    except:\n",
    "        print(f'error for {i}')"
   ]
  },
  {
   "cell_type": "code",
   "execution_count": null,
   "id": "a4d1c921",
   "metadata": {},
   "outputs": [],
   "source": []
  },
  {
   "cell_type": "markdown",
   "id": "fc7f54f9",
   "metadata": {},
   "source": [
    "### 슬라이싱 : list와 마찬가지"
   ]
  },
  {
   "cell_type": "code",
   "execution_count": 39,
   "id": "3ea79029",
   "metadata": {
    "scrolled": true
   },
   "outputs": [
    {
     "data": {
      "text/plain": [
       "array([3, 5, 3, 1])"
      ]
     },
     "execution_count": 39,
     "metadata": {},
     "output_type": "execute_result"
    }
   ],
   "source": [
    "arr"
   ]
  },
  {
   "cell_type": "code",
   "execution_count": 32,
   "id": "dad3b760",
   "metadata": {
    "scrolled": true
   },
   "outputs": [
    {
     "name": "stdout",
     "output_type": "stream",
     "text": [
      "1 [3]\n",
      "0 []\n",
      "-1 [3, 5, 3]\n",
      "-2 [3, 5]\n",
      "-3 [3]\n",
      "-4 []\n",
      "-5 []\n"
     ]
    }
   ],
   "source": [
    "for i in range(1, -6, -1):\n",
    "    print(i, arr[:i])"
   ]
  },
  {
   "cell_type": "code",
   "execution_count": 40,
   "id": "869a4929",
   "metadata": {},
   "outputs": [
    {
     "name": "stdout",
     "output_type": "stream",
     "text": [
      "3 [1]\n",
      "4 []\n",
      "5 []\n",
      "6 []\n",
      "7 []\n"
     ]
    }
   ],
   "source": [
    "for i in range(3, 8):\n",
    "    print(i, arr[i:])"
   ]
  },
  {
   "cell_type": "code",
   "execution_count": null,
   "id": "0cd5cb4f",
   "metadata": {},
   "outputs": [],
   "source": []
  },
  {
   "cell_type": "code",
   "execution_count": 41,
   "id": "da1221f9",
   "metadata": {},
   "outputs": [
    {
     "data": {
      "text/plain": [
       "array([], dtype=int32)"
      ]
     },
     "execution_count": 41,
     "metadata": {},
     "output_type": "execute_result"
    }
   ],
   "source": [
    "arr[3:1]"
   ]
  },
  {
   "cell_type": "code",
   "execution_count": 42,
   "id": "2c36010e",
   "metadata": {},
   "outputs": [
    {
     "data": {
      "text/plain": [
       "array([], dtype=int32)"
      ]
     },
     "execution_count": 42,
     "metadata": {},
     "output_type": "execute_result"
    }
   ],
   "source": [
    "arr[3:3]"
   ]
  },
  {
   "cell_type": "code",
   "execution_count": 43,
   "id": "76b0568d",
   "metadata": {},
   "outputs": [
    {
     "data": {
      "text/plain": [
       "array([3, 5, 3, 1])"
      ]
     },
     "execution_count": 43,
     "metadata": {},
     "output_type": "execute_result"
    }
   ],
   "source": [
    "arr"
   ]
  },
  {
   "cell_type": "code",
   "execution_count": 45,
   "id": "110137b8",
   "metadata": {},
   "outputs": [],
   "source": [
    "arr1 = np.append(arr, np.array([2, 3]))"
   ]
  },
  {
   "cell_type": "markdown",
   "id": "91ab4f31",
   "metadata": {},
   "source": [
    "- np.append는 배열+ 배열 개념. list.append와 다름"
   ]
  },
  {
   "cell_type": "code",
   "execution_count": 47,
   "id": "311345cc",
   "metadata": {},
   "outputs": [
    {
     "data": {
      "text/plain": [
       "array([3, 5, 3, 1, 2, 3])"
      ]
     },
     "execution_count": 47,
     "metadata": {},
     "output_type": "execute_result"
    }
   ],
   "source": [
    "arr1"
   ]
  },
  {
   "cell_type": "code",
   "execution_count": 46,
   "id": "755a48c3",
   "metadata": {},
   "outputs": [
    {
     "data": {
      "text/plain": [
       "array([2, 1, 3, 5, 3])"
      ]
     },
     "execution_count": 46,
     "metadata": {},
     "output_type": "execute_result"
    }
   ],
   "source": [
    "arr1[-2::-1]"
   ]
  },
  {
   "cell_type": "code",
   "execution_count": 49,
   "id": "9724a298",
   "metadata": {},
   "outputs": [
    {
     "data": {
      "text/plain": [
       "array([1])"
      ]
     },
     "execution_count": 49,
     "metadata": {},
     "output_type": "execute_result"
    }
   ],
   "source": [
    "arr1[-3:-2]"
   ]
  },
  {
   "cell_type": "code",
   "execution_count": null,
   "id": "e91472b4",
   "metadata": {},
   "outputs": [],
   "source": []
  },
  {
   "cell_type": "markdown",
   "id": "8ee7ef7b",
   "metadata": {},
   "source": [
    "## pandas series에 대해"
   ]
  },
  {
   "cell_type": "code",
   "execution_count": 141,
   "id": "c78b2e52",
   "metadata": {},
   "outputs": [],
   "source": [
    "import pandas as pd"
   ]
  },
  {
   "cell_type": "code",
   "execution_count": 142,
   "id": "e0ec2e1d",
   "metadata": {},
   "outputs": [
    {
     "data": {
      "text/plain": [
       "(6, [3, 5, 3, 1, 2, 8])"
      ]
     },
     "execution_count": 142,
     "metadata": {},
     "output_type": "execute_result"
    }
   ],
   "source": [
    "li1 = li + [2, 8]\n",
    "len(li1), li1"
   ]
  },
  {
   "cell_type": "code",
   "execution_count": 143,
   "id": "8df40e68",
   "metadata": {},
   "outputs": [],
   "source": [
    "sr = pd.Series(li1, index=list('CDEFGH'), name='ind_sli' )"
   ]
  },
  {
   "cell_type": "code",
   "execution_count": 144,
   "id": "f34127e0",
   "metadata": {},
   "outputs": [
    {
     "data": {
      "text/plain": [
       "C    3\n",
       "D    5\n",
       "E    3\n",
       "F    1\n",
       "G    2\n",
       "H    8\n",
       "Name: ind_sli, dtype: int64"
      ]
     },
     "execution_count": 144,
     "metadata": {},
     "output_type": "execute_result"
    }
   ],
   "source": [
    "sr"
   ]
  },
  {
   "cell_type": "markdown",
   "id": "8d55f261",
   "metadata": {},
   "source": [
    "### 인덱싱 : list와 같다"
   ]
  },
  {
   "cell_type": "markdown",
   "id": "dfa1c7de",
   "metadata": {},
   "source": [
    "#### sr[n] : number"
   ]
  },
  {
   "cell_type": "markdown",
   "id": "803c39f0",
   "metadata": {},
   "source": [
    "- IndexError: index 7 is out of bounds for axis 0 with size 6"
   ]
  },
  {
   "cell_type": "code",
   "execution_count": 70,
   "id": "f6e5303c",
   "metadata": {},
   "outputs": [
    {
     "name": "stdout",
     "output_type": "stream",
     "text": [
      "len : 6\n",
      "\n",
      "error for -10\n",
      "error for -9\n",
      "error for -8\n",
      "error for -7\n",
      "-6 3\n",
      "-5 5\n",
      "-4 3\n",
      "-3 1\n",
      "-2 2\n",
      "-1 8\n",
      "0 3\n",
      "1 5\n",
      "2 3\n",
      "3 1\n",
      "4 2\n",
      "5 8\n",
      "error for 6\n",
      "error for 7\n",
      "error for 8\n",
      "error for 9\n"
     ]
    }
   ],
   "source": [
    "print(f'len : {len(sr)}\\n')\n",
    "for i in range(-10, 10):\n",
    "    try:\n",
    "        print(i, sr[i])\n",
    "    except:\n",
    "        print(f'error for {i}')"
   ]
  },
  {
   "cell_type": "raw",
   "id": "ff406fa0",
   "metadata": {},
   "source": [
    "sr[7]"
   ]
  },
  {
   "cell_type": "markdown",
   "id": "3ea17fb9",
   "metadata": {},
   "source": [
    "#### sr.iloc[n] : number"
   ]
  },
  {
   "cell_type": "code",
   "execution_count": 71,
   "id": "a208251d",
   "metadata": {},
   "outputs": [
    {
     "name": "stdout",
     "output_type": "stream",
     "text": [
      "len : 6\n",
      "\n",
      "error for -10\n",
      "error for -9\n",
      "error for -8\n",
      "error for -7\n",
      "-6 3\n",
      "-5 5\n",
      "-4 3\n",
      "-3 1\n",
      "-2 2\n",
      "-1 8\n",
      "0 3\n",
      "1 5\n",
      "2 3\n",
      "3 1\n",
      "4 2\n",
      "5 8\n",
      "error for 6\n",
      "error for 7\n",
      "error for 8\n",
      "error for 9\n"
     ]
    }
   ],
   "source": [
    "print(f'len : {len(sr)}\\n')\n",
    "for i in range(-10, 10):\n",
    "    try:\n",
    "        print(i, sr.iloc[i])\n",
    "    except:\n",
    "        print(f'error for {i}')"
   ]
  },
  {
   "cell_type": "code",
   "execution_count": null,
   "id": "60de2e5e",
   "metadata": {},
   "outputs": [],
   "source": []
  },
  {
   "cell_type": "markdown",
   "id": "59b269e2",
   "metadata": {},
   "source": [
    "#### sr.loc[index_name]"
   ]
  },
  {
   "cell_type": "code",
   "execution_count": 73,
   "id": "a97af2ec",
   "metadata": {},
   "outputs": [
    {
     "name": "stdout",
     "output_type": "stream",
     "text": [
      "len : 6\n",
      "\n",
      "error for A\n",
      "error for B\n",
      "C 3\n",
      "D 5\n",
      "E 3\n",
      "F 1\n",
      "G 2\n",
      "H 8\n",
      "error for I\n",
      "error for J\n"
     ]
    }
   ],
   "source": [
    "print(f'len : {len(sr)}\\n')\n",
    "for i in list('ABCDEFGHIJ'):\n",
    "    try:\n",
    "        print(i, sr.loc[i])\n",
    "    except:\n",
    "        print(f'error for {i}')"
   ]
  },
  {
   "cell_type": "code",
   "execution_count": null,
   "id": "727a8d31",
   "metadata": {},
   "outputs": [],
   "source": []
  },
  {
   "cell_type": "markdown",
   "id": "29702c6d",
   "metadata": {},
   "source": [
    "### 슬라이싱"
   ]
  },
  {
   "cell_type": "markdown",
   "id": "d9c7b50c",
   "metadata": {},
   "source": [
    "#### sr[::]"
   ]
  },
  {
   "cell_type": "code",
   "execution_count": 74,
   "id": "5da2c876",
   "metadata": {
    "scrolled": false
   },
   "outputs": [
    {
     "data": {
      "text/plain": [
       "C    3\n",
       "D    5\n",
       "E    3\n",
       "F    1\n",
       "G    2\n",
       "H    8\n",
       "Name: ind_sli, dtype: int64"
      ]
     },
     "execution_count": 74,
     "metadata": {},
     "output_type": "execute_result"
    }
   ],
   "source": [
    "sr"
   ]
  },
  {
   "cell_type": "code",
   "execution_count": 80,
   "id": "e6d944e2",
   "metadata": {
    "scrolled": true
   },
   "outputs": [
    {
     "name": "stdout",
     "output_type": "stream",
     "text": [
      "1 [3]\n",
      "0 []\n",
      "-1 [3 5 3 1 2]\n",
      "-2 [3 5 3 1]\n",
      "-3 [3 5 3]\n",
      "-4 [3 5]\n",
      "-5 [3]\n",
      "-6 []\n",
      "-7 []\n"
     ]
    }
   ],
   "source": [
    "for i in range(1, -8, -1):\n",
    "    print(i, sr[:i].values)"
   ]
  },
  {
   "cell_type": "code",
   "execution_count": 84,
   "id": "357acfc8",
   "metadata": {},
   "outputs": [
    {
     "name": "stdout",
     "output_type": "stream",
     "text": [
      "2 [3 1 2 8]\n",
      "3 [1 2 8]\n",
      "4 [2 8]\n",
      "5 [8]\n",
      "6 []\n",
      "7 []\n",
      "8 []\n",
      "9 []\n"
     ]
    }
   ],
   "source": [
    "for i in range(2, 10):\n",
    "    print(i, sr[i:].values)"
   ]
  },
  {
   "cell_type": "code",
   "execution_count": null,
   "id": "2b0fd136",
   "metadata": {},
   "outputs": [],
   "source": []
  },
  {
   "cell_type": "code",
   "execution_count": 85,
   "id": "71cd9455",
   "metadata": {},
   "outputs": [
    {
     "data": {
      "text/plain": [
       "Series([], Name: ind_sli, dtype: int64)"
      ]
     },
     "execution_count": 85,
     "metadata": {},
     "output_type": "execute_result"
    }
   ],
   "source": [
    "sr[3:1]"
   ]
  },
  {
   "cell_type": "code",
   "execution_count": 86,
   "id": "07fa8cb7",
   "metadata": {},
   "outputs": [
    {
     "data": {
      "text/plain": [
       "Series([], Name: ind_sli, dtype: int64)"
      ]
     },
     "execution_count": 86,
     "metadata": {},
     "output_type": "execute_result"
    }
   ],
   "source": [
    "sr[3:3]"
   ]
  },
  {
   "cell_type": "markdown",
   "id": "fd842cd8",
   "metadata": {},
   "source": [
    "- np.append는 배열+ 배열 개념. list.append와 다름"
   ]
  },
  {
   "cell_type": "code",
   "execution_count": 87,
   "id": "e9490de1",
   "metadata": {},
   "outputs": [
    {
     "data": {
      "text/plain": [
       "G    2\n",
       "F    1\n",
       "E    3\n",
       "D    5\n",
       "C    3\n",
       "Name: ind_sli, dtype: int64"
      ]
     },
     "execution_count": 87,
     "metadata": {},
     "output_type": "execute_result"
    }
   ],
   "source": [
    "sr[-2::-1]"
   ]
  },
  {
   "cell_type": "code",
   "execution_count": 88,
   "id": "ea4cd2a2",
   "metadata": {},
   "outputs": [
    {
     "data": {
      "text/plain": [
       "F    1\n",
       "Name: ind_sli, dtype: int64"
      ]
     },
     "execution_count": 88,
     "metadata": {},
     "output_type": "execute_result"
    }
   ],
   "source": [
    "sr[-3:-2]"
   ]
  },
  {
   "cell_type": "code",
   "execution_count": null,
   "id": "23729393",
   "metadata": {},
   "outputs": [],
   "source": []
  },
  {
   "cell_type": "code",
   "execution_count": null,
   "id": "788ca569",
   "metadata": {},
   "outputs": [],
   "source": []
  },
  {
   "cell_type": "code",
   "execution_count": null,
   "id": "831ec76a",
   "metadata": {},
   "outputs": [],
   "source": []
  },
  {
   "cell_type": "markdown",
   "id": "cc8cf42f",
   "metadata": {},
   "source": [
    "#### sr.iloc[::]"
   ]
  },
  {
   "cell_type": "code",
   "execution_count": 89,
   "id": "6f820bdc",
   "metadata": {
    "scrolled": true
   },
   "outputs": [
    {
     "data": {
      "text/plain": [
       "C    3\n",
       "D    5\n",
       "E    3\n",
       "F    1\n",
       "G    2\n",
       "H    8\n",
       "Name: ind_sli, dtype: int64"
      ]
     },
     "execution_count": 89,
     "metadata": {},
     "output_type": "execute_result"
    }
   ],
   "source": [
    "sr"
   ]
  },
  {
   "cell_type": "code",
   "execution_count": 90,
   "id": "5fbeb7ec",
   "metadata": {
    "scrolled": true
   },
   "outputs": [
    {
     "name": "stdout",
     "output_type": "stream",
     "text": [
      "1 [3]\n",
      "0 []\n",
      "-1 [3 5 3 1 2]\n",
      "-2 [3 5 3 1]\n",
      "-3 [3 5 3]\n",
      "-4 [3 5]\n",
      "-5 [3]\n",
      "-6 []\n",
      "-7 []\n"
     ]
    }
   ],
   "source": [
    "for i in range(1, -8, -1):\n",
    "    print(i, sr.iloc[:i].values)"
   ]
  },
  {
   "cell_type": "code",
   "execution_count": 91,
   "id": "9b3ef431",
   "metadata": {},
   "outputs": [
    {
     "name": "stdout",
     "output_type": "stream",
     "text": [
      "2 [3 1 2 8]\n",
      "3 [1 2 8]\n",
      "4 [2 8]\n",
      "5 [8]\n",
      "6 []\n",
      "7 []\n",
      "8 []\n",
      "9 []\n"
     ]
    }
   ],
   "source": [
    "for i in range(2, 10):\n",
    "    print(i, sr.iloc[i:].values)"
   ]
  },
  {
   "cell_type": "code",
   "execution_count": null,
   "id": "0e55c1ed",
   "metadata": {},
   "outputs": [],
   "source": []
  },
  {
   "cell_type": "code",
   "execution_count": 92,
   "id": "c879f2e8",
   "metadata": {},
   "outputs": [
    {
     "data": {
      "text/plain": [
       "Series([], Name: ind_sli, dtype: int64)"
      ]
     },
     "execution_count": 92,
     "metadata": {},
     "output_type": "execute_result"
    }
   ],
   "source": [
    "sr.iloc[3:1]"
   ]
  },
  {
   "cell_type": "code",
   "execution_count": 93,
   "id": "536eadb8",
   "metadata": {},
   "outputs": [
    {
     "data": {
      "text/plain": [
       "Series([], Name: ind_sli, dtype: int64)"
      ]
     },
     "execution_count": 93,
     "metadata": {},
     "output_type": "execute_result"
    }
   ],
   "source": [
    "sr.iloc[3:3]"
   ]
  },
  {
   "cell_type": "code",
   "execution_count": 94,
   "id": "084917b5",
   "metadata": {},
   "outputs": [
    {
     "data": {
      "text/plain": [
       "G    2\n",
       "F    1\n",
       "E    3\n",
       "D    5\n",
       "C    3\n",
       "Name: ind_sli, dtype: int64"
      ]
     },
     "execution_count": 94,
     "metadata": {},
     "output_type": "execute_result"
    }
   ],
   "source": [
    "sr.iloc[-2::-1]"
   ]
  },
  {
   "cell_type": "code",
   "execution_count": 95,
   "id": "dadb614c",
   "metadata": {},
   "outputs": [
    {
     "data": {
      "text/plain": [
       "F    1\n",
       "Name: ind_sli, dtype: int64"
      ]
     },
     "execution_count": 95,
     "metadata": {},
     "output_type": "execute_result"
    }
   ],
   "source": [
    "sr.iloc[-3:-2]"
   ]
  },
  {
   "cell_type": "code",
   "execution_count": null,
   "id": "e749f1f7",
   "metadata": {},
   "outputs": [],
   "source": []
  },
  {
   "cell_type": "markdown",
   "id": "0a049463",
   "metadata": {},
   "source": [
    "#### sr.loc[::]"
   ]
  },
  {
   "cell_type": "code",
   "execution_count": 98,
   "id": "f6d98ca3",
   "metadata": {},
   "outputs": [
    {
     "data": {
      "text/plain": [
       "C    3\n",
       "D    5\n",
       "E    3\n",
       "F    1\n",
       "G    2\n",
       "H    8\n",
       "Name: ind_sli, dtype: int64"
      ]
     },
     "execution_count": 98,
     "metadata": {},
     "output_type": "execute_result"
    }
   ],
   "source": [
    "sr"
   ]
  },
  {
   "cell_type": "code",
   "execution_count": 97,
   "id": "e3a22f4c",
   "metadata": {
    "scrolled": false
   },
   "outputs": [
    {
     "name": "stdout",
     "output_type": "stream",
     "text": [
      "len : 6\n",
      "\n",
      "A []\n",
      "B []\n",
      "C [3]\n",
      "D [3 5]\n",
      "E [3 5 3]\n",
      "F [3 5 3 1]\n",
      "G [3 5 3 1 2]\n",
      "H [3 5 3 1 2 8]\n",
      "I [3 5 3 1 2 8]\n",
      "J [3 5 3 1 2 8]\n"
     ]
    }
   ],
   "source": [
    "print(f'len : {len(sr)}\\n')\n",
    "for i in list('ABCDEFGHIJ'):\n",
    "    try:\n",
    "        print(i, sr.loc[:i].values)\n",
    "    except:\n",
    "        print(f'error for {i}')"
   ]
  },
  {
   "cell_type": "code",
   "execution_count": 99,
   "id": "c20d9c3f",
   "metadata": {
    "scrolled": true
   },
   "outputs": [
    {
     "name": "stdout",
     "output_type": "stream",
     "text": [
      "len : 6\n",
      "\n",
      "A [3 5 3 1 2 8]\n",
      "B [3 5 3 1 2 8]\n",
      "C [3 5 3 1 2 8]\n",
      "D [5 3 1 2 8]\n",
      "E [3 1 2 8]\n",
      "F [1 2 8]\n",
      "G [2 8]\n",
      "H [8]\n",
      "I []\n",
      "J []\n"
     ]
    }
   ],
   "source": [
    "print(f'len : {len(sr)}\\n')\n",
    "for i in list('ABCDEFGHIJ'):\n",
    "    try:\n",
    "        print(i, sr.loc[i:].values)\n",
    "    except:\n",
    "        print(f'error for {i}')"
   ]
  },
  {
   "cell_type": "markdown",
   "id": "0a3fdc56",
   "metadata": {},
   "source": [
    "- B가 C보다 작다, I가 H보다 크다라는 것을 임의로 파이썬이 판단 하고있다.\n"
   ]
  },
  {
   "cell_type": "code",
   "execution_count": 100,
   "id": "fb9ffa14",
   "metadata": {
    "scrolled": true
   },
   "outputs": [
    {
     "name": "stdout",
     "output_type": "stream",
     "text": [
      "len : 6\n",
      "\n",
      "I [3 5 3 1 2 8]\n",
      "J [3 5 3 1 2 8]\n",
      "C [3]\n",
      "D [3 5]\n",
      "E [3 5 3]\n",
      "F [3 5 3 1]\n",
      "G [3 5 3 1 2]\n",
      "H [3 5 3 1 2 8]\n",
      "A []\n",
      "B []\n"
     ]
    }
   ],
   "source": [
    "print(f'len : {len(sr)}\\n')\n",
    "for i in list('IJCDEFGHAB'):\n",
    "    try:\n",
    "        print(i, sr.loc[:i].values)\n",
    "    except:\n",
    "        print(f'error for {i}')"
   ]
  },
  {
   "cell_type": "markdown",
   "id": "49a010c7",
   "metadata": {},
   "source": [
    "# sr.loc[::] 문자 인덱스 슬라이싱\n",
    "- 인덱스 네임을 무작위로 변경"
   ]
  },
  {
   "cell_type": "markdown",
   "id": "99d7b31d",
   "metadata": {},
   "source": [
    "- ascii 코드 기준으로 작은거 -> 큰거,\n",
    "- +1 씩 증가해야함,\n",
    "-  51 52 53 97 98 99 이런식으로 가능"
   ]
  },
  {
   "cell_type": "markdown",
   "id": "76eaf0fe",
   "metadata": {},
   "source": [
    "## 무작위 인덱스"
   ]
  },
  {
   "cell_type": "code",
   "execution_count": 145,
   "id": "293746e5",
   "metadata": {},
   "outputs": [
    {
     "data": {
      "text/plain": [
       "C    3\n",
       "D    5\n",
       "E    3\n",
       "F    1\n",
       "G    2\n",
       "H    8\n",
       "Name: ind_sli, dtype: int64"
      ]
     },
     "execution_count": 145,
     "metadata": {},
     "output_type": "execute_result"
    }
   ],
   "source": [
    "sr"
   ]
  },
  {
   "cell_type": "code",
   "execution_count": 146,
   "id": "91efb35b",
   "metadata": {},
   "outputs": [],
   "source": [
    "sr.rename(index=dict(zip(sr.index, list('31aAcT'))), inplace=True)"
   ]
  },
  {
   "cell_type": "code",
   "execution_count": 147,
   "id": "8df49718",
   "metadata": {},
   "outputs": [
    {
     "data": {
      "text/plain": [
       "3    3\n",
       "1    5\n",
       "a    3\n",
       "A    1\n",
       "c    2\n",
       "T    8\n",
       "Name: ind_sli, dtype: int64"
      ]
     },
     "execution_count": 147,
     "metadata": {},
     "output_type": "execute_result"
    }
   ],
   "source": [
    "sr"
   ]
  },
  {
   "cell_type": "code",
   "execution_count": 148,
   "id": "b2bd711b",
   "metadata": {},
   "outputs": [],
   "source": [
    "idx = ['0', '2'] + list(sr.index) + ['U']"
   ]
  },
  {
   "cell_type": "code",
   "execution_count": 149,
   "id": "5e849f2e",
   "metadata": {
    "scrolled": false
   },
   "outputs": [
    {
     "name": "stdout",
     "output_type": "stream",
     "text": [
      "len : 6\n",
      "\n",
      "error for 0\n",
      "error for 2\n",
      "3 [3 5 3 1 2 8]\n",
      "1 [5 3 1 2 8]\n",
      "a [3 1 2 8]\n",
      "A [1 2 8]\n",
      "c [2 8]\n",
      "T [8]\n",
      "error for U\n"
     ]
    }
   ],
   "source": [
    "print(f'len : {len(sr)}\\n')\n",
    "for i in idx:\n",
    "    try:\n",
    "        print(i, sr.loc[i:].values)\n",
    "    except:\n",
    "        print(f'error for {i}')"
   ]
  },
  {
   "cell_type": "markdown",
   "id": "d78b42ce",
   "metadata": {},
   "source": [
    "## 정렬된 숫자 + 정렬된 알파벳"
   ]
  },
  {
   "cell_type": "code",
   "execution_count": 150,
   "id": "55f9b5d9",
   "metadata": {
    "scrolled": false
   },
   "outputs": [
    {
     "data": {
      "text/plain": [
       "3    3\n",
       "1    5\n",
       "a    3\n",
       "A    1\n",
       "c    2\n",
       "T    8\n",
       "Name: ind_sli, dtype: int64"
      ]
     },
     "execution_count": 150,
     "metadata": {},
     "output_type": "execute_result"
    }
   ],
   "source": [
    "sr"
   ]
  },
  {
   "cell_type": "code",
   "execution_count": 151,
   "id": "0cd04e4a",
   "metadata": {},
   "outputs": [],
   "source": [
    "sr.rename(index=dict(zip(sr.index, list('345abc'))), inplace=True)"
   ]
  },
  {
   "cell_type": "code",
   "execution_count": null,
   "id": "a107517f",
   "metadata": {},
   "outputs": [],
   "source": []
  },
  {
   "cell_type": "code",
   "execution_count": 152,
   "id": "758287bc",
   "metadata": {},
   "outputs": [],
   "source": [
    "idx = ['1', '2'] + list(sr.index) + ['d', 'e']"
   ]
  },
  {
   "cell_type": "code",
   "execution_count": 153,
   "id": "9b4338a0",
   "metadata": {
    "scrolled": false
   },
   "outputs": [
    {
     "name": "stdout",
     "output_type": "stream",
     "text": [
      "len : 6\n",
      "\n",
      "1 [3 5 3 1 2 8]\n",
      "2 [3 5 3 1 2 8]\n",
      "3 [3 5 3 1 2 8]\n",
      "4 [5 3 1 2 8]\n",
      "5 [3 1 2 8]\n",
      "a [1 2 8]\n",
      "b [2 8]\n",
      "c [8]\n",
      "d []\n",
      "e []\n"
     ]
    }
   ],
   "source": [
    "print(f'len : {len(sr)}\\n')\n",
    "for i in idx:\n",
    "    try:\n",
    "        print(i, sr.loc[i:].values)\n",
    "    except:\n",
    "        print(f'error for {i}')"
   ]
  },
  {
   "cell_type": "code",
   "execution_count": null,
   "id": "cffed9d7",
   "metadata": {},
   "outputs": [],
   "source": []
  },
  {
   "cell_type": "code",
   "execution_count": 169,
   "id": "1885c93e",
   "metadata": {},
   "outputs": [
    {
     "name": "stdout",
     "output_type": "stream",
     "text": [
      "51\n",
      "52\n",
      "53\n",
      "97\n",
      "98\n",
      "99\n"
     ]
    }
   ],
   "source": [
    "for i in list('345abc'):\n",
    "    print(ord(i))"
   ]
  },
  {
   "cell_type": "code",
   "execution_count": 154,
   "id": "06333b6e",
   "metadata": {},
   "outputs": [
    {
     "data": {
      "text/plain": [
       "3    3\n",
       "4    5\n",
       "5    3\n",
       "a    1\n",
       "b    2\n",
       "c    8\n",
       "Name: ind_sli, dtype: int64"
      ]
     },
     "execution_count": 154,
     "metadata": {},
     "output_type": "execute_result"
    }
   ],
   "source": [
    "sr"
   ]
  },
  {
   "cell_type": "markdown",
   "id": "50337b5b",
   "metadata": {},
   "source": [
    "## 정렬된 것 중간에 순서 다른 거 끼우기"
   ]
  },
  {
   "cell_type": "code",
   "execution_count": 191,
   "id": "b18f4aaf",
   "metadata": {},
   "outputs": [
    {
     "data": {
      "text/plain": [
       "(95, '%')"
      ]
     },
     "execution_count": 191,
     "metadata": {},
     "output_type": "execute_result"
    }
   ],
   "source": [
    "ord('_'), chr(37)"
   ]
  },
  {
   "cell_type": "code",
   "execution_count": 192,
   "id": "2ecec4e8",
   "metadata": {},
   "outputs": [
    {
     "data": {
      "text/plain": [
       "(6, [3, 5, 3, 1, 2, 8])"
      ]
     },
     "execution_count": 192,
     "metadata": {},
     "output_type": "execute_result"
    }
   ],
   "source": [
    "li1 = li + [2, 8]\n",
    "len(li1), li1"
   ]
  },
  {
   "cell_type": "code",
   "execution_count": 193,
   "id": "9a536a9c",
   "metadata": {},
   "outputs": [],
   "source": [
    "sr = pd.Series(li1, index=list('CDEFGH'), name='ind_sli' )"
   ]
  },
  {
   "cell_type": "code",
   "execution_count": 194,
   "id": "8de4ee56",
   "metadata": {},
   "outputs": [],
   "source": [
    "sr.rename(index=dict(zip(sr.index, list('34%_cd'))), inplace=True)"
   ]
  },
  {
   "cell_type": "code",
   "execution_count": null,
   "id": "122fbe76",
   "metadata": {},
   "outputs": [],
   "source": []
  },
  {
   "cell_type": "code",
   "execution_count": 195,
   "id": "39235ac1",
   "metadata": {},
   "outputs": [],
   "source": [
    "idx = ['1', '2'] + list(sr.index) + ['e', 'f']"
   ]
  },
  {
   "cell_type": "code",
   "execution_count": 196,
   "id": "fe9e1827",
   "metadata": {
    "scrolled": true
   },
   "outputs": [
    {
     "name": "stdout",
     "output_type": "stream",
     "text": [
      "len : 6\n",
      "\n",
      "error for 1\n",
      "error for 2\n",
      "3 [3 5 3 1 2 8]\n",
      "4 [5 3 1 2 8]\n",
      "% [3 1 2 8]\n",
      "_ [1 2 8]\n",
      "c [2 8]\n",
      "d [8]\n",
      "error for e\n",
      "error for f\n"
     ]
    }
   ],
   "source": [
    "print(f'len : {len(sr)}\\n')\n",
    "for i in idx:\n",
    "    try:\n",
    "        print(i, sr.loc[i:].values)\n",
    "    except:\n",
    "        print(f'error for {i}')"
   ]
  },
  {
   "cell_type": "code",
   "execution_count": null,
   "id": "5890be2b",
   "metadata": {},
   "outputs": [],
   "source": []
  },
  {
   "cell_type": "code",
   "execution_count": null,
   "id": "2e06b505",
   "metadata": {},
   "outputs": [],
   "source": []
  },
  {
   "cell_type": "markdown",
   "id": "7f8cc371",
   "metadata": {},
   "source": [
    "## 정렬된 것 중간에 순서 맞는 거 끼우기"
   ]
  },
  {
   "cell_type": "code",
   "execution_count": 197,
   "id": "878072e5",
   "metadata": {},
   "outputs": [
    {
     "data": {
      "text/plain": [
       "(95, '%')"
      ]
     },
     "execution_count": 197,
     "metadata": {},
     "output_type": "execute_result"
    }
   ],
   "source": [
    "ord('_'), chr(37)"
   ]
  },
  {
   "cell_type": "code",
   "execution_count": 198,
   "id": "85ff13ad",
   "metadata": {},
   "outputs": [
    {
     "data": {
      "text/plain": [
       "(6, [3, 5, 3, 1, 2, 8])"
      ]
     },
     "execution_count": 198,
     "metadata": {},
     "output_type": "execute_result"
    }
   ],
   "source": [
    "li1 = li + [2, 8]\n",
    "len(li1), li1"
   ]
  },
  {
   "cell_type": "code",
   "execution_count": 199,
   "id": "1e8be4e7",
   "metadata": {},
   "outputs": [],
   "source": [
    "sr = pd.Series(li1, index=list('CDEFGH'), name='ind_sli' )"
   ]
  },
  {
   "cell_type": "code",
   "execution_count": 200,
   "id": "b86c153d",
   "metadata": {},
   "outputs": [],
   "source": [
    "sr.rename(index=dict(zip(sr.index, list('34__cd'))), inplace=True)"
   ]
  },
  {
   "cell_type": "code",
   "execution_count": null,
   "id": "ebf8ec33",
   "metadata": {},
   "outputs": [],
   "source": []
  },
  {
   "cell_type": "code",
   "execution_count": 201,
   "id": "3023ff6e",
   "metadata": {},
   "outputs": [],
   "source": [
    "idx = ['1', '2'] + list(sr.index) + ['e', 'f']"
   ]
  },
  {
   "cell_type": "code",
   "execution_count": 202,
   "id": "3740fbf1",
   "metadata": {
    "scrolled": true
   },
   "outputs": [
    {
     "name": "stdout",
     "output_type": "stream",
     "text": [
      "len : 6\n",
      "\n",
      "1 [3 5 3 1 2 8]\n",
      "2 [3 5 3 1 2 8]\n",
      "3 [3 5 3 1 2 8]\n",
      "4 [5 3 1 2 8]\n",
      "_ [3 1 2 8]\n",
      "_ [3 1 2 8]\n",
      "c [2 8]\n",
      "d [8]\n",
      "e []\n",
      "f []\n"
     ]
    }
   ],
   "source": [
    "print(f'len : {len(sr)}\\n')\n",
    "for i in idx:\n",
    "    try:\n",
    "        print(i, sr.loc[i:].values)\n",
    "    except:\n",
    "        print(f'error for {i}')"
   ]
  },
  {
   "cell_type": "code",
   "execution_count": null,
   "id": "b53f25eb",
   "metadata": {},
   "outputs": [],
   "source": []
  },
  {
   "cell_type": "code",
   "execution_count": null,
   "id": "6d7c4f2e",
   "metadata": {},
   "outputs": [],
   "source": []
  },
  {
   "cell_type": "code",
   "execution_count": null,
   "id": "88a814a9",
   "metadata": {},
   "outputs": [],
   "source": []
  },
  {
   "cell_type": "markdown",
   "id": "2a457ef9",
   "metadata": {},
   "source": [
    "## 간격을 2이상으로 둠"
   ]
  },
  {
   "cell_type": "code",
   "execution_count": 208,
   "id": "de395d58",
   "metadata": {},
   "outputs": [
    {
     "data": {
      "text/plain": [
       "(6, [3, 5, 3, 1, 2, 8])"
      ]
     },
     "execution_count": 208,
     "metadata": {},
     "output_type": "execute_result"
    }
   ],
   "source": [
    "li1 = li + [2, 8]\n",
    "len(li1), li1"
   ]
  },
  {
   "cell_type": "code",
   "execution_count": 209,
   "id": "6e08bdef",
   "metadata": {},
   "outputs": [],
   "source": [
    "sr = pd.Series(li1, index=list('CDEFGH'), name='ind_sli' )"
   ]
  },
  {
   "cell_type": "code",
   "execution_count": 210,
   "id": "d3ec11e4",
   "metadata": {},
   "outputs": [],
   "source": [
    "sr.rename(index=dict(zip(sr.index, list('68adgj'))), inplace=True)"
   ]
  },
  {
   "cell_type": "code",
   "execution_count": 211,
   "id": "2d47fc38",
   "metadata": {},
   "outputs": [],
   "source": [
    "idx = ['2', '4'] + list(sr.index) + ['m']"
   ]
  },
  {
   "cell_type": "code",
   "execution_count": 212,
   "id": "7da904e2",
   "metadata": {
    "scrolled": false
   },
   "outputs": [
    {
     "name": "stdout",
     "output_type": "stream",
     "text": [
      "len : 6\n",
      "\n",
      "2 [3 5 3 1 2 8]\n",
      "4 [3 5 3 1 2 8]\n",
      "6 [3 5 3 1 2 8]\n",
      "8 [5 3 1 2 8]\n",
      "a [3 1 2 8]\n",
      "d [1 2 8]\n",
      "g [2 8]\n",
      "j [8]\n",
      "m []\n"
     ]
    }
   ],
   "source": [
    "print(f'len : {len(sr)}\\n')\n",
    "for i in idx:\n",
    "    try:\n",
    "        print(i, sr.loc[i:].values)\n",
    "    except:\n",
    "        print(f'error for {i}')"
   ]
  },
  {
   "cell_type": "code",
   "execution_count": null,
   "id": "b37c8b76",
   "metadata": {},
   "outputs": [],
   "source": []
  },
  {
   "cell_type": "markdown",
   "id": "a2d0871d",
   "metadata": {},
   "source": [
    "# sr[ ] 과 sr.iloc[]의 차이"
   ]
  },
  {
   "cell_type": "code",
   "execution_count": null,
   "id": "5329d92e",
   "metadata": {},
   "outputs": [],
   "source": []
  },
  {
   "cell_type": "code",
   "execution_count": null,
   "id": "e1cf0840",
   "metadata": {},
   "outputs": [],
   "source": []
  }
 ],
 "metadata": {
  "kernelspec": {
   "display_name": "Python 3 (ipykernel)",
   "language": "python",
   "name": "python3"
  },
  "language_info": {
   "codemirror_mode": {
    "name": "ipython",
    "version": 3
   },
   "file_extension": ".py",
   "mimetype": "text/x-python",
   "name": "python",
   "nbconvert_exporter": "python",
   "pygments_lexer": "ipython3",
   "version": "3.10.4"
  },
  "toc": {
   "base_numbering": 1,
   "nav_menu": {},
   "number_sections": true,
   "sideBar": true,
   "skip_h1_title": false,
   "title_cell": "Table of Contents",
   "title_sidebar": "Contents",
   "toc_cell": false,
   "toc_position": {
    "height": "calc(100% - 180px)",
    "left": "10px",
    "top": "150px",
    "width": "293.75px"
   },
   "toc_section_display": true,
   "toc_window_display": true
  }
 },
 "nbformat": 4,
 "nbformat_minor": 5
}
